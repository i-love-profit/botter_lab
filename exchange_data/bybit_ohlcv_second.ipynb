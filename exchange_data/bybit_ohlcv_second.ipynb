{
 "cells": [
  {
   "cell_type": "markdown",
   "metadata": {},
   "source": [
    "# bybit秒足作成プログラム."
   ]
  },
  {
   "cell_type": "markdown",
   "metadata": {},
   "source": [
    "- bybitの公開約定履歴から秒足を作成するプログラム.\n",
    "- 分足や時間足の作成にも使えます."
   ]
  },
  {
   "cell_type": "code",
   "execution_count": 1,
   "metadata": {},
   "outputs": [],
   "source": [
    "import pandas as pd\n"
   ]
  },
  {
   "cell_type": "markdown",
   "metadata": {},
   "source": [
    "## config."
   ]
  },
  {
   "cell_type": "code",
   "execution_count": 2,
   "metadata": {},
   "outputs": [],
   "source": [
    "from_date = \"2021-01-01\"\n",
    "to_date = \"2021-01-02\"\n",
    "interval = \"5s\"  # ex.1s, 5s, 10s, 1min, 1h\n"
   ]
  },
  {
   "cell_type": "markdown",
   "metadata": {},
   "source": [
    "## データ取得と整形."
   ]
  },
  {
   "cell_type": "code",
   "execution_count": 3,
   "metadata": {},
   "outputs": [
    {
     "name": "stdout",
     "output_type": "stream",
     "text": [
      "downloaded https://public.bybit.com/trading/BTCUSD/BTCUSD2021-01-01.csv.gz\n",
      "downloaded https://public.bybit.com/trading/BTCUSD/BTCUSD2021-01-02.csv.gz\n"
     ]
    }
   ],
   "source": [
    "ohlcv = []\n",
    "for d in pd.date_range(from_date, to_date):\n",
    "    filename = f\"https://public.bybit.com/trading/BTCUSD/BTCUSD{str(d)[0:10]}.csv.gz\"\n",
    "    # timestamp,symbol,side,size,price,tickDirection,trdMatchID,grossValue,homeNotional,foreignNotional\n",
    "    # 1609545599.766732,BTCUSD,Sell,23099,29394.5,ZeroMinusTick,20bfb289-3707-5414-94ea-e996c85c62bf,78582728.0,23099,0.78582728\n",
    "    # 1609545599.766732,BTCUSD,Sell,19379,29394.5,ZeroMinusTick,6bb10e16-dd85-5624-ae44-96088fab6b06,65927298.99999999,19379,0.65927299\n",
    "    df = pd.read_csv(filename)[[\"timestamp\", \"price\", \"size\"]]\n",
    "    df = df.sort_values(\"timestamp\")\n",
    "    df = df[(df[\"timestamp\"] >= d.timestamp()) & (df[\"timestamp\"] < d.timestamp() + 60 * 60 * 24)]\n",
    "    df.index = pd.to_datetime(df[\"timestamp\"], unit=\"s\", utc=True)\n",
    "    df = pd.concat([\n",
    "        df[\"price\"].resample(interval).first(),\n",
    "        df[\"price\"].resample(interval).max(),\n",
    "        df[\"price\"].resample(interval).min(),\n",
    "        df[\"price\"].resample(interval).last(),\n",
    "        df[\"size\"].resample(interval).sum(),\n",
    "    ], axis=1)\n",
    "    df.columns = [\"open\", \"high\", \"low\", \"close\", \"volume\"]\n",
    "    ohlcv.append(df)\n",
    "    print(f\"downloaded {filename}\")\n",
    "\n",
    "ohlcv = pd.concat(ohlcv)\n"
   ]
  },
  {
   "cell_type": "code",
   "execution_count": 4,
   "metadata": {},
   "outputs": [
    {
     "data": {
      "text/html": [
       "<div>\n",
       "<style scoped>\n",
       "    .dataframe tbody tr th:only-of-type {\n",
       "        vertical-align: middle;\n",
       "    }\n",
       "\n",
       "    .dataframe tbody tr th {\n",
       "        vertical-align: top;\n",
       "    }\n",
       "\n",
       "    .dataframe thead th {\n",
       "        text-align: right;\n",
       "    }\n",
       "</style>\n",
       "<table border=\"1\" class=\"dataframe\">\n",
       "  <thead>\n",
       "    <tr style=\"text-align: right;\">\n",
       "      <th></th>\n",
       "      <th>open</th>\n",
       "      <th>high</th>\n",
       "      <th>low</th>\n",
       "      <th>close</th>\n",
       "      <th>volume</th>\n",
       "    </tr>\n",
       "    <tr>\n",
       "      <th>timestamp</th>\n",
       "      <th></th>\n",
       "      <th></th>\n",
       "      <th></th>\n",
       "      <th></th>\n",
       "      <th></th>\n",
       "    </tr>\n",
       "  </thead>\n",
       "  <tbody>\n",
       "    <tr>\n",
       "      <th>2021-01-01 00:00:00+00:00</th>\n",
       "      <td>28955.0</td>\n",
       "      <td>28955.5</td>\n",
       "      <td>28955.0</td>\n",
       "      <td>28955.0</td>\n",
       "      <td>54827</td>\n",
       "    </tr>\n",
       "    <tr>\n",
       "      <th>2021-01-01 00:00:05+00:00</th>\n",
       "      <td>28955.0</td>\n",
       "      <td>28955.5</td>\n",
       "      <td>28955.0</td>\n",
       "      <td>28955.5</td>\n",
       "      <td>36391</td>\n",
       "    </tr>\n",
       "    <tr>\n",
       "      <th>2021-01-01 00:00:10+00:00</th>\n",
       "      <td>28955.0</td>\n",
       "      <td>28955.5</td>\n",
       "      <td>28955.0</td>\n",
       "      <td>28955.5</td>\n",
       "      <td>132512</td>\n",
       "    </tr>\n",
       "    <tr>\n",
       "      <th>2021-01-01 00:00:15+00:00</th>\n",
       "      <td>28955.0</td>\n",
       "      <td>28955.5</td>\n",
       "      <td>28955.0</td>\n",
       "      <td>28955.5</td>\n",
       "      <td>5971</td>\n",
       "    </tr>\n",
       "    <tr>\n",
       "      <th>2021-01-01 00:00:20+00:00</th>\n",
       "      <td>28955.5</td>\n",
       "      <td>28955.5</td>\n",
       "      <td>28955.0</td>\n",
       "      <td>28955.5</td>\n",
       "      <td>13602</td>\n",
       "    </tr>\n",
       "    <tr>\n",
       "      <th>...</th>\n",
       "      <td>...</td>\n",
       "      <td>...</td>\n",
       "      <td>...</td>\n",
       "      <td>...</td>\n",
       "      <td>...</td>\n",
       "    </tr>\n",
       "    <tr>\n",
       "      <th>2021-01-02 23:59:35+00:00</th>\n",
       "      <td>32209.0</td>\n",
       "      <td>32209.0</td>\n",
       "      <td>32208.5</td>\n",
       "      <td>32209.0</td>\n",
       "      <td>81226</td>\n",
       "    </tr>\n",
       "    <tr>\n",
       "      <th>2021-01-02 23:59:40+00:00</th>\n",
       "      <td>32208.5</td>\n",
       "      <td>32209.0</td>\n",
       "      <td>32208.5</td>\n",
       "      <td>32208.5</td>\n",
       "      <td>45297</td>\n",
       "    </tr>\n",
       "    <tr>\n",
       "      <th>2021-01-02 23:59:45+00:00</th>\n",
       "      <td>32209.0</td>\n",
       "      <td>32220.0</td>\n",
       "      <td>32208.5</td>\n",
       "      <td>32219.5</td>\n",
       "      <td>989692</td>\n",
       "    </tr>\n",
       "    <tr>\n",
       "      <th>2021-01-02 23:59:50+00:00</th>\n",
       "      <td>32220.0</td>\n",
       "      <td>32220.0</td>\n",
       "      <td>32220.0</td>\n",
       "      <td>32220.0</td>\n",
       "      <td>16130</td>\n",
       "    </tr>\n",
       "    <tr>\n",
       "      <th>2021-01-02 23:59:55+00:00</th>\n",
       "      <td>32220.0</td>\n",
       "      <td>32220.0</td>\n",
       "      <td>32214.0</td>\n",
       "      <td>32214.5</td>\n",
       "      <td>386075</td>\n",
       "    </tr>\n",
       "  </tbody>\n",
       "</table>\n",
       "<p>34560 rows × 5 columns</p>\n",
       "</div>"
      ],
      "text/plain": [
       "                              open     high      low    close  volume\n",
       "timestamp                                                            \n",
       "2021-01-01 00:00:00+00:00  28955.0  28955.5  28955.0  28955.0   54827\n",
       "2021-01-01 00:00:05+00:00  28955.0  28955.5  28955.0  28955.5   36391\n",
       "2021-01-01 00:00:10+00:00  28955.0  28955.5  28955.0  28955.5  132512\n",
       "2021-01-01 00:00:15+00:00  28955.0  28955.5  28955.0  28955.5    5971\n",
       "2021-01-01 00:00:20+00:00  28955.5  28955.5  28955.0  28955.5   13602\n",
       "...                            ...      ...      ...      ...     ...\n",
       "2021-01-02 23:59:35+00:00  32209.0  32209.0  32208.5  32209.0   81226\n",
       "2021-01-02 23:59:40+00:00  32208.5  32209.0  32208.5  32208.5   45297\n",
       "2021-01-02 23:59:45+00:00  32209.0  32220.0  32208.5  32219.5  989692\n",
       "2021-01-02 23:59:50+00:00  32220.0  32220.0  32220.0  32220.0   16130\n",
       "2021-01-02 23:59:55+00:00  32220.0  32220.0  32214.0  32214.5  386075\n",
       "\n",
       "[34560 rows x 5 columns]"
      ]
     },
     "execution_count": 4,
     "metadata": {},
     "output_type": "execute_result"
    }
   ],
   "source": [
    "ohlcv"
   ]
  },
  {
   "cell_type": "markdown",
   "metadata": {},
   "source": [
    "## ファイル出力."
   ]
  },
  {
   "cell_type": "code",
   "execution_count": 5,
   "metadata": {},
   "outputs": [],
   "source": [
    "# ohlcv.to_csv(f\"bybit_ohlcv_{interval}_{from_date.replace('-', '')}_{to_date.replace('-', '')}.csv\")\n"
   ]
  },
  {
   "cell_type": "code",
   "execution_count": null,
   "metadata": {},
   "outputs": [],
   "source": []
  }
 ],
 "metadata": {
  "kernelspec": {
   "display_name": "Python 3",
   "language": "python",
   "name": "python3"
  },
  "language_info": {
   "codemirror_mode": {
    "name": "ipython",
    "version": 3
   },
   "file_extension": ".py",
   "mimetype": "text/x-python",
   "name": "python",
   "nbconvert_exporter": "python",
   "pygments_lexer": "ipython3",
   "version": "3.7.6"
  },
  "toc": {
   "base_numbering": 1,
   "nav_menu": {},
   "number_sections": true,
   "sideBar": true,
   "skip_h1_title": false,
   "title_cell": "Table of Contents",
   "title_sidebar": "Contents",
   "toc_cell": false,
   "toc_position": {},
   "toc_section_display": true,
   "toc_window_display": false
  }
 },
 "nbformat": 4,
 "nbformat_minor": 4
}
