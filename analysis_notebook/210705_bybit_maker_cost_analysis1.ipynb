{
 "cells": [
  {
   "cell_type": "code",
   "execution_count": 1,
   "metadata": {},
   "outputs": [],
   "source": [
    "%load_ext autoreload\n",
    "%autoreload 2"
   ]
  },
  {
   "cell_type": "markdown",
   "metadata": {},
   "source": [
    "# bybitメイカーコスト分析."
   ]
  },
  {
   "cell_type": "markdown",
   "metadata": {},
   "source": [
    "- bybitでメイク約定させるときのコストの傾向を把握する.\n",
    "- メイカーフィー(-2.5bp)込みで、どの程度のコストがかかるかを近似的に計算する.\n",
    "- テイク約定させるときのコストも計測する."
   ]
  },
  {
   "cell_type": "code",
   "execution_count": 2,
   "metadata": {},
   "outputs": [],
   "source": [
    "import logging\n",
    "import matplotlib.pyplot as plt\n",
    "import numpy as np\n",
    "import pandas as pd\n",
    "import pytz\n",
    "import time\n",
    "from datetime import datetime\n"
   ]
  },
  {
   "cell_type": "markdown",
   "metadata": {},
   "source": [
    "## データ読み込み."
   ]
  },
  {
   "cell_type": "markdown",
   "metadata": {},
   "source": [
    "### 1分足."
   ]
  },
  {
   "cell_type": "markdown",
   "metadata": {},
   "source": [
    "- データはこちらの[秒足作成プログラム](https://github.com/i-love-profit/botter_lab/blob/main/exchange_data/bybit_ohlcv_second.ipynb)で作成. \n",
    "- 5秒足や10秒足でより詳細にシミュレーションすることも可能."
   ]
  },
  {
   "cell_type": "code",
   "execution_count": 3,
   "metadata": {},
   "outputs": [
    {
     "data": {
      "text/html": [
       "<div>\n",
       "<style scoped>\n",
       "    .dataframe tbody tr th:only-of-type {\n",
       "        vertical-align: middle;\n",
       "    }\n",
       "\n",
       "    .dataframe tbody tr th {\n",
       "        vertical-align: top;\n",
       "    }\n",
       "\n",
       "    .dataframe thead th {\n",
       "        text-align: right;\n",
       "    }\n",
       "</style>\n",
       "<table border=\"1\" class=\"dataframe\">\n",
       "  <thead>\n",
       "    <tr style=\"text-align: right;\">\n",
       "      <th></th>\n",
       "      <th>timestamp</th>\n",
       "      <th>open</th>\n",
       "      <th>high</th>\n",
       "      <th>low</th>\n",
       "      <th>close</th>\n",
       "      <th>volume</th>\n",
       "    </tr>\n",
       "    <tr>\n",
       "      <th>timestamp</th>\n",
       "      <th></th>\n",
       "      <th></th>\n",
       "      <th></th>\n",
       "      <th></th>\n",
       "      <th></th>\n",
       "      <th></th>\n",
       "    </tr>\n",
       "  </thead>\n",
       "  <tbody>\n",
       "    <tr>\n",
       "      <th>2021-01-01 00:00:00+00:00</th>\n",
       "      <td>2021-01-01 00:00:00+00:00</td>\n",
       "      <td>28955.0</td>\n",
       "      <td>28984.5</td>\n",
       "      <td>28955.0</td>\n",
       "      <td>28984.5</td>\n",
       "      <td>2720179</td>\n",
       "    </tr>\n",
       "    <tr>\n",
       "      <th>2021-01-01 00:01:00+00:00</th>\n",
       "      <td>2021-01-01 00:01:00+00:00</td>\n",
       "      <td>28984.5</td>\n",
       "      <td>29035.0</td>\n",
       "      <td>28984.5</td>\n",
       "      <td>29034.5</td>\n",
       "      <td>5306311</td>\n",
       "    </tr>\n",
       "    <tr>\n",
       "      <th>2021-01-01 00:02:00+00:00</th>\n",
       "      <td>2021-01-01 00:02:00+00:00</td>\n",
       "      <td>29035.0</td>\n",
       "      <td>29035.0</td>\n",
       "      <td>29011.5</td>\n",
       "      <td>29011.5</td>\n",
       "      <td>1471654</td>\n",
       "    </tr>\n",
       "    <tr>\n",
       "      <th>2021-01-01 00:03:00+00:00</th>\n",
       "      <td>2021-01-01 00:03:00+00:00</td>\n",
       "      <td>29012.0</td>\n",
       "      <td>29017.0</td>\n",
       "      <td>29011.5</td>\n",
       "      <td>29011.5</td>\n",
       "      <td>343817</td>\n",
       "    </tr>\n",
       "    <tr>\n",
       "      <th>2021-01-01 00:04:00+00:00</th>\n",
       "      <td>2021-01-01 00:04:00+00:00</td>\n",
       "      <td>29011.5</td>\n",
       "      <td>29014.0</td>\n",
       "      <td>29011.5</td>\n",
       "      <td>29014.0</td>\n",
       "      <td>210728</td>\n",
       "    </tr>\n",
       "    <tr>\n",
       "      <th>...</th>\n",
       "      <td>...</td>\n",
       "      <td>...</td>\n",
       "      <td>...</td>\n",
       "      <td>...</td>\n",
       "      <td>...</td>\n",
       "      <td>...</td>\n",
       "    </tr>\n",
       "    <tr>\n",
       "      <th>2021-07-01 23:55:00+00:00</th>\n",
       "      <td>2021-07-01 23:55:00+00:00</td>\n",
       "      <td>33580.5</td>\n",
       "      <td>33580.5</td>\n",
       "      <td>33580.0</td>\n",
       "      <td>33580.5</td>\n",
       "      <td>929003</td>\n",
       "    </tr>\n",
       "    <tr>\n",
       "      <th>2021-07-01 23:56:00+00:00</th>\n",
       "      <td>2021-07-01 23:56:00+00:00</td>\n",
       "      <td>33580.5</td>\n",
       "      <td>33580.5</td>\n",
       "      <td>33558.0</td>\n",
       "      <td>33558.5</td>\n",
       "      <td>1674578</td>\n",
       "    </tr>\n",
       "    <tr>\n",
       "      <th>2021-07-01 23:57:00+00:00</th>\n",
       "      <td>2021-07-01 23:57:00+00:00</td>\n",
       "      <td>33558.0</td>\n",
       "      <td>33558.0</td>\n",
       "      <td>33473.0</td>\n",
       "      <td>33505.0</td>\n",
       "      <td>3625756</td>\n",
       "    </tr>\n",
       "    <tr>\n",
       "      <th>2021-07-01 23:58:00+00:00</th>\n",
       "      <td>2021-07-01 23:58:00+00:00</td>\n",
       "      <td>33505.5</td>\n",
       "      <td>33547.5</td>\n",
       "      <td>33505.0</td>\n",
       "      <td>33547.5</td>\n",
       "      <td>1791323</td>\n",
       "    </tr>\n",
       "    <tr>\n",
       "      <th>2021-07-01 23:59:00+00:00</th>\n",
       "      <td>2021-07-01 23:59:00+00:00</td>\n",
       "      <td>33547.5</td>\n",
       "      <td>33547.5</td>\n",
       "      <td>33490.0</td>\n",
       "      <td>33512.0</td>\n",
       "      <td>2123573</td>\n",
       "    </tr>\n",
       "  </tbody>\n",
       "</table>\n",
       "<p>262075 rows × 6 columns</p>\n",
       "</div>"
      ],
      "text/plain": [
       "                                           timestamp     open     high  \\\n",
       "timestamp                                                                \n",
       "2021-01-01 00:00:00+00:00  2021-01-01 00:00:00+00:00  28955.0  28984.5   \n",
       "2021-01-01 00:01:00+00:00  2021-01-01 00:01:00+00:00  28984.5  29035.0   \n",
       "2021-01-01 00:02:00+00:00  2021-01-01 00:02:00+00:00  29035.0  29035.0   \n",
       "2021-01-01 00:03:00+00:00  2021-01-01 00:03:00+00:00  29012.0  29017.0   \n",
       "2021-01-01 00:04:00+00:00  2021-01-01 00:04:00+00:00  29011.5  29014.0   \n",
       "...                                              ...      ...      ...   \n",
       "2021-07-01 23:55:00+00:00  2021-07-01 23:55:00+00:00  33580.5  33580.5   \n",
       "2021-07-01 23:56:00+00:00  2021-07-01 23:56:00+00:00  33580.5  33580.5   \n",
       "2021-07-01 23:57:00+00:00  2021-07-01 23:57:00+00:00  33558.0  33558.0   \n",
       "2021-07-01 23:58:00+00:00  2021-07-01 23:58:00+00:00  33505.5  33547.5   \n",
       "2021-07-01 23:59:00+00:00  2021-07-01 23:59:00+00:00  33547.5  33547.5   \n",
       "\n",
       "                               low    close   volume  \n",
       "timestamp                                             \n",
       "2021-01-01 00:00:00+00:00  28955.0  28984.5  2720179  \n",
       "2021-01-01 00:01:00+00:00  28984.5  29034.5  5306311  \n",
       "2021-01-01 00:02:00+00:00  29011.5  29011.5  1471654  \n",
       "2021-01-01 00:03:00+00:00  29011.5  29011.5   343817  \n",
       "2021-01-01 00:04:00+00:00  29011.5  29014.0   210728  \n",
       "...                            ...      ...      ...  \n",
       "2021-07-01 23:55:00+00:00  33580.0  33580.5   929003  \n",
       "2021-07-01 23:56:00+00:00  33558.0  33558.5  1674578  \n",
       "2021-07-01 23:57:00+00:00  33473.0  33505.0  3625756  \n",
       "2021-07-01 23:58:00+00:00  33505.0  33547.5  1791323  \n",
       "2021-07-01 23:59:00+00:00  33490.0  33512.0  2123573  \n",
       "\n",
       "[262075 rows x 6 columns]"
      ]
     },
     "execution_count": 3,
     "metadata": {},
     "output_type": "execute_result"
    }
   ],
   "source": [
    "symbol = \"BTC/USD\"\n",
    "interval = \"1m\"\n",
    "bybit_btcusd_1m = pd.read_csv(\"data/bybit_ohlcv_1min_20210101_20210701.csv\")\n",
    "bybit_btcusd_1m.index = pd.to_datetime(bybit_btcusd_1m[\"timestamp\"], utc=True)\n",
    "bybit_btcusd_1m"
   ]
  },
  {
   "cell_type": "markdown",
   "metadata": {},
   "source": [
    "## テイカー価格とメイカー価格の付与."
   ]
  },
  {
   "cell_type": "markdown",
   "metadata": {},
   "source": [
    "1分足を利用して, テイカー価格とメイカー価格を計算する. 以下で近似する."
   ]
  },
  {
   "cell_type": "markdown",
   "metadata": {},
   "source": [
    "**テイカー価格**  \n",
    "- Open価格に対し, 買い注文の場合は+1tick, 売り注文の場合は-1tickしたものを発注価格とし, 約定価格=発注価格とする.\n",
    "- 約定価格に対し, テイカーフィーのコスト分だけ不利な価格にずらしたものをテイク価格とする.\n",
    "- テイク価格はBuy/Sellを別々に計算しておく.\n"
   ]
  },
  {
   "cell_type": "markdown",
   "metadata": {},
   "source": [
    "**メイカー価格**  \n",
    "- Open価格に対し, 買い注文の場合は-1tick, 売り注文の場合は+1tickしたものを発注価格とする.\n",
    "- 買いの場合, その足の発注価格>Low価格であれば, 発注価格を約定価格とする. そうでない場合, その足では約定しなかったものとし, 次の足のOpenで新たな発注価格で発注し直すものとする.\n",
    "- 売りの場合, その足の発注価格<High価格であれば, 発注価格を約定価格とする. そうでない場合(ry\n",
    "- 約定価格が計算されなかった場合, bfillを使って次回以降の足で初めて約定した価格を約定価格とする.\n",
    "- 約定価格に対し, メイカーフィーのコスト分だけ有利な価格にずらしたものをメイク価格とする.\n",
    "- メイク価格はBuy/Sellを別々に計算しておく."
   ]
  },
  {
   "cell_type": "markdown",
   "metadata": {},
   "source": [
    "※厳密にはOpen時の価格がBuy側約定かSell側約定かが分からない. 長期的にこの誤差は均されるものとする."
   ]
  },
  {
   "cell_type": "code",
   "execution_count": 4,
   "metadata": {},
   "outputs": [
    {
     "data": {
      "text/html": [
       "<div>\n",
       "<style scoped>\n",
       "    .dataframe tbody tr th:only-of-type {\n",
       "        vertical-align: middle;\n",
       "    }\n",
       "\n",
       "    .dataframe tbody tr th {\n",
       "        vertical-align: top;\n",
       "    }\n",
       "\n",
       "    .dataframe thead th {\n",
       "        text-align: right;\n",
       "    }\n",
       "</style>\n",
       "<table border=\"1\" class=\"dataframe\">\n",
       "  <thead>\n",
       "    <tr style=\"text-align: right;\">\n",
       "      <th></th>\n",
       "      <th>timestamp</th>\n",
       "      <th>open</th>\n",
       "      <th>high</th>\n",
       "      <th>low</th>\n",
       "      <th>close</th>\n",
       "      <th>volume</th>\n",
       "      <th>taker_buy_price</th>\n",
       "      <th>taker_sell_price</th>\n",
       "      <th>maker_buy_price</th>\n",
       "      <th>maker_sell_price</th>\n",
       "    </tr>\n",
       "    <tr>\n",
       "      <th>timestamp</th>\n",
       "      <th></th>\n",
       "      <th></th>\n",
       "      <th></th>\n",
       "      <th></th>\n",
       "      <th></th>\n",
       "      <th></th>\n",
       "      <th></th>\n",
       "      <th></th>\n",
       "      <th></th>\n",
       "      <th></th>\n",
       "    </tr>\n",
       "  </thead>\n",
       "  <tbody>\n",
       "    <tr>\n",
       "      <th>2021-01-01 00:00:00+00:00</th>\n",
       "      <td>2021-01-01 00:00:00+00:00</td>\n",
       "      <td>28955.0</td>\n",
       "      <td>28984.5</td>\n",
       "      <td>28955.0</td>\n",
       "      <td>28984.5</td>\n",
       "      <td>2720179</td>\n",
       "      <td>28977.216625</td>\n",
       "      <td>28932.784125</td>\n",
       "      <td>29027.241375</td>\n",
       "      <td>28962.738875</td>\n",
       "    </tr>\n",
       "    <tr>\n",
       "      <th>2021-01-01 00:01:00+00:00</th>\n",
       "      <td>2021-01-01 00:01:00+00:00</td>\n",
       "      <td>28984.5</td>\n",
       "      <td>29035.0</td>\n",
       "      <td>28984.5</td>\n",
       "      <td>29034.5</td>\n",
       "      <td>5306311</td>\n",
       "      <td>29006.738750</td>\n",
       "      <td>28962.262000</td>\n",
       "      <td>29027.241375</td>\n",
       "      <td>28992.246250</td>\n",
       "    </tr>\n",
       "    <tr>\n",
       "      <th>2021-01-01 00:02:00+00:00</th>\n",
       "      <td>2021-01-01 00:02:00+00:00</td>\n",
       "      <td>29035.0</td>\n",
       "      <td>29035.0</td>\n",
       "      <td>29011.5</td>\n",
       "      <td>29011.5</td>\n",
       "      <td>1471654</td>\n",
       "      <td>29057.276625</td>\n",
       "      <td>29012.724125</td>\n",
       "      <td>29027.241375</td>\n",
       "      <td>29019.753125</td>\n",
       "    </tr>\n",
       "    <tr>\n",
       "      <th>2021-01-01 00:03:00+00:00</th>\n",
       "      <td>2021-01-01 00:03:00+00:00</td>\n",
       "      <td>29012.0</td>\n",
       "      <td>29017.0</td>\n",
       "      <td>29011.5</td>\n",
       "      <td>29011.5</td>\n",
       "      <td>343817</td>\n",
       "      <td>29034.259375</td>\n",
       "      <td>28989.741375</td>\n",
       "      <td>29005.746750</td>\n",
       "      <td>29019.753125</td>\n",
       "    </tr>\n",
       "    <tr>\n",
       "      <th>2021-01-01 00:04:00+00:00</th>\n",
       "      <td>2021-01-01 00:04:00+00:00</td>\n",
       "      <td>29011.5</td>\n",
       "      <td>29014.0</td>\n",
       "      <td>29011.5</td>\n",
       "      <td>29014.0</td>\n",
       "      <td>210728</td>\n",
       "      <td>29033.759000</td>\n",
       "      <td>28989.241750</td>\n",
       "      <td>29005.746750</td>\n",
       "      <td>29019.253000</td>\n",
       "    </tr>\n",
       "    <tr>\n",
       "      <th>...</th>\n",
       "      <td>...</td>\n",
       "      <td>...</td>\n",
       "      <td>...</td>\n",
       "      <td>...</td>\n",
       "      <td>...</td>\n",
       "      <td>...</td>\n",
       "      <td>...</td>\n",
       "      <td>...</td>\n",
       "      <td>...</td>\n",
       "      <td>...</td>\n",
       "    </tr>\n",
       "    <tr>\n",
       "      <th>2021-07-01 23:55:00+00:00</th>\n",
       "      <td>2021-07-01 23:55:00+00:00</td>\n",
       "      <td>33580.5</td>\n",
       "      <td>33580.5</td>\n",
       "      <td>33580.0</td>\n",
       "      <td>33580.5</td>\n",
       "      <td>929003</td>\n",
       "      <td>33606.185750</td>\n",
       "      <td>33554.815000</td>\n",
       "      <td>33571.605000</td>\n",
       "      <td>33514.376500</td>\n",
       "    </tr>\n",
       "    <tr>\n",
       "      <th>2021-07-01 23:56:00+00:00</th>\n",
       "      <td>2021-07-01 23:56:00+00:00</td>\n",
       "      <td>33580.5</td>\n",
       "      <td>33580.5</td>\n",
       "      <td>33558.0</td>\n",
       "      <td>33558.5</td>\n",
       "      <td>1674578</td>\n",
       "      <td>33606.185750</td>\n",
       "      <td>33554.815000</td>\n",
       "      <td>33571.605000</td>\n",
       "      <td>33514.376500</td>\n",
       "    </tr>\n",
       "    <tr>\n",
       "      <th>2021-07-01 23:57:00+00:00</th>\n",
       "      <td>2021-07-01 23:57:00+00:00</td>\n",
       "      <td>33558.0</td>\n",
       "      <td>33558.0</td>\n",
       "      <td>33473.0</td>\n",
       "      <td>33505.0</td>\n",
       "      <td>3625756</td>\n",
       "      <td>33583.668875</td>\n",
       "      <td>33532.331875</td>\n",
       "      <td>33549.110625</td>\n",
       "      <td>33514.376500</td>\n",
       "    </tr>\n",
       "    <tr>\n",
       "      <th>2021-07-01 23:58:00+00:00</th>\n",
       "      <td>2021-07-01 23:58:00+00:00</td>\n",
       "      <td>33505.5</td>\n",
       "      <td>33547.5</td>\n",
       "      <td>33505.0</td>\n",
       "      <td>33547.5</td>\n",
       "      <td>1791323</td>\n",
       "      <td>33531.129500</td>\n",
       "      <td>33479.871250</td>\n",
       "      <td>33538.613250</td>\n",
       "      <td>33514.376500</td>\n",
       "    </tr>\n",
       "    <tr>\n",
       "      <th>2021-07-01 23:59:00+00:00</th>\n",
       "      <td>2021-07-01 23:59:00+00:00</td>\n",
       "      <td>33547.5</td>\n",
       "      <td>33547.5</td>\n",
       "      <td>33490.0</td>\n",
       "      <td>33512.0</td>\n",
       "      <td>2123573</td>\n",
       "      <td>33573.161000</td>\n",
       "      <td>33521.839750</td>\n",
       "      <td>33538.613250</td>\n",
       "      <td>NaN</td>\n",
       "    </tr>\n",
       "  </tbody>\n",
       "</table>\n",
       "<p>262075 rows × 10 columns</p>\n",
       "</div>"
      ],
      "text/plain": [
       "                                           timestamp     open     high  \\\n",
       "timestamp                                                                \n",
       "2021-01-01 00:00:00+00:00  2021-01-01 00:00:00+00:00  28955.0  28984.5   \n",
       "2021-01-01 00:01:00+00:00  2021-01-01 00:01:00+00:00  28984.5  29035.0   \n",
       "2021-01-01 00:02:00+00:00  2021-01-01 00:02:00+00:00  29035.0  29035.0   \n",
       "2021-01-01 00:03:00+00:00  2021-01-01 00:03:00+00:00  29012.0  29017.0   \n",
       "2021-01-01 00:04:00+00:00  2021-01-01 00:04:00+00:00  29011.5  29014.0   \n",
       "...                                              ...      ...      ...   \n",
       "2021-07-01 23:55:00+00:00  2021-07-01 23:55:00+00:00  33580.5  33580.5   \n",
       "2021-07-01 23:56:00+00:00  2021-07-01 23:56:00+00:00  33580.5  33580.5   \n",
       "2021-07-01 23:57:00+00:00  2021-07-01 23:57:00+00:00  33558.0  33558.0   \n",
       "2021-07-01 23:58:00+00:00  2021-07-01 23:58:00+00:00  33505.5  33547.5   \n",
       "2021-07-01 23:59:00+00:00  2021-07-01 23:59:00+00:00  33547.5  33547.5   \n",
       "\n",
       "                               low    close   volume  taker_buy_price  \\\n",
       "timestamp                                                               \n",
       "2021-01-01 00:00:00+00:00  28955.0  28984.5  2720179     28977.216625   \n",
       "2021-01-01 00:01:00+00:00  28984.5  29034.5  5306311     29006.738750   \n",
       "2021-01-01 00:02:00+00:00  29011.5  29011.5  1471654     29057.276625   \n",
       "2021-01-01 00:03:00+00:00  29011.5  29011.5   343817     29034.259375   \n",
       "2021-01-01 00:04:00+00:00  29011.5  29014.0   210728     29033.759000   \n",
       "...                            ...      ...      ...              ...   \n",
       "2021-07-01 23:55:00+00:00  33580.0  33580.5   929003     33606.185750   \n",
       "2021-07-01 23:56:00+00:00  33558.0  33558.5  1674578     33606.185750   \n",
       "2021-07-01 23:57:00+00:00  33473.0  33505.0  3625756     33583.668875   \n",
       "2021-07-01 23:58:00+00:00  33505.0  33547.5  1791323     33531.129500   \n",
       "2021-07-01 23:59:00+00:00  33490.0  33512.0  2123573     33573.161000   \n",
       "\n",
       "                           taker_sell_price  maker_buy_price  maker_sell_price  \n",
       "timestamp                                                                       \n",
       "2021-01-01 00:00:00+00:00      28932.784125     29027.241375      28962.738875  \n",
       "2021-01-01 00:01:00+00:00      28962.262000     29027.241375      28992.246250  \n",
       "2021-01-01 00:02:00+00:00      29012.724125     29027.241375      29019.753125  \n",
       "2021-01-01 00:03:00+00:00      28989.741375     29005.746750      29019.753125  \n",
       "2021-01-01 00:04:00+00:00      28989.241750     29005.746750      29019.253000  \n",
       "...                                     ...              ...               ...  \n",
       "2021-07-01 23:55:00+00:00      33554.815000     33571.605000      33514.376500  \n",
       "2021-07-01 23:56:00+00:00      33554.815000     33571.605000      33514.376500  \n",
       "2021-07-01 23:57:00+00:00      33532.331875     33549.110625      33514.376500  \n",
       "2021-07-01 23:58:00+00:00      33479.871250     33538.613250      33514.376500  \n",
       "2021-07-01 23:59:00+00:00      33521.839750     33538.613250               NaN  \n",
       "\n",
       "[262075 rows x 10 columns]"
      ]
     },
     "execution_count": 4,
     "metadata": {},
     "output_type": "execute_result"
    }
   ],
   "source": [
    "tick = 0.5\n",
    "taker_fee = 0.00075\n",
    "maker_fee = 0.00025  # マイナス手数料. 下の計算で, メイク価格はこの値を引いて計算される.\n",
    "\n",
    "bybit_btcusd_1m[\"taker_buy_price\"] = bybit_btcusd_1m[\"open\"] + tick + taker_fee * (bybit_btcusd_1m[\"open\"] + tick)\n",
    "bybit_btcusd_1m[\"taker_sell_price\"] = bybit_btcusd_1m[\"open\"] - tick - taker_fee * (bybit_btcusd_1m[\"open\"] - tick)\n",
    "bybit_btcusd_1m[\"maker_buy_price\"] = None\n",
    "bybit_btcusd_1m.loc[bybit_btcusd_1m[\"open\"] - tick > bybit_btcusd_1m[\"low\"], \"maker_buy_price\"] = bybit_btcusd_1m[\"open\"] - tick - maker_fee * (bybit_btcusd_1m[\"open\"] - tick)\n",
    "bybit_btcusd_1m[\"maker_buy_price\"] = bybit_btcusd_1m[\"maker_buy_price\"].fillna(method=\"bfill\")\n",
    "bybit_btcusd_1m[\"maker_sell_price\"] = None\n",
    "bybit_btcusd_1m.loc[bybit_btcusd_1m[\"open\"] + tick < bybit_btcusd_1m[\"high\"], \"maker_sell_price\"] = bybit_btcusd_1m[\"open\"] + tick + maker_fee * (bybit_btcusd_1m[\"open\"] + tick)\n",
    "bybit_btcusd_1m[\"maker_sell_price\"] = bybit_btcusd_1m[\"maker_sell_price\"].fillna(method=\"bfill\")\n",
    "\n",
    "bybit_btcusd_1m"
   ]
  },
  {
   "cell_type": "markdown",
   "metadata": {},
   "source": [
    "## テイカーコストとメイカーコストの比較."
   ]
  },
  {
   "cell_type": "markdown",
   "metadata": {},
   "source": [
    "- コストは, 買い約定のときと売り約定のときの平均をとる."
   ]
  },
  {
   "cell_type": "code",
   "execution_count": 5,
   "metadata": {},
   "outputs": [
    {
     "name": "stdout",
     "output_type": "stream",
     "text": [
      "テイカーコスト平均: 0.07615%\n",
      "メイカーコスト平均: 0.02893%\n"
     ]
    }
   ],
   "source": [
    "tmp = bybit_btcusd_1m.copy()\n",
    "tmp[\"taker_cost\"] = ((tmp[\"taker_buy_price\"] - tmp[\"open\"]) / tmp[\"open\"] - (tmp[\"taker_sell_price\"] - tmp[\"open\"]) / tmp[\"open\"]) / 2\n",
    "tmp[\"maker_cost\"] = ((tmp[\"maker_buy_price\"] - tmp[\"open\"]) / tmp[\"open\"] - (tmp[\"maker_sell_price\"] - tmp[\"open\"]) / tmp[\"open\"]) / 2\n",
    "print(f\"テイカーコスト平均: {tmp['taker_cost'].mean()*100:.5f}%\")\n",
    "print(f\"メイカーコスト平均: {tmp['maker_cost'].mean()*100:.5f}%\")\n"
   ]
  },
  {
   "cell_type": "markdown",
   "metadata": {},
   "source": [
    "### メモ."
   ]
  },
  {
   "cell_type": "markdown",
   "metadata": {},
   "source": [
    "- 1分足(2021/1/1～2021/7/1)の全平均では, 1分ごとにベスト価格にメイク注文を出したほうが, テイク注文を出すよりも約定コストが小さい."
   ]
  },
  {
   "cell_type": "markdown",
   "metadata": {},
   "source": [
    "## メイカーコストの時間帯（分）別の傾向."
   ]
  },
  {
   "cell_type": "code",
   "execution_count": 6,
   "metadata": {},
   "outputs": [
    {
     "data": {
      "image/png": "[encoded data removed]",
      "text/plain": [
       "<Figure size 1152x288 with 1 Axes>"
      ]
     },
     "metadata": {
      "needs_background": "light"
     },
     "output_type": "display_data"
    }
   ],
   "source": [
    "tmp = bybit_btcusd_1m.copy()\n",
    "tmp[\"maker_cost\"] = ((tmp[\"maker_buy_price\"] - tmp[\"open\"]) / tmp[\"open\"] - (tmp[\"maker_sell_price\"] - tmp[\"open\"]) / tmp[\"open\"]) / 2\n",
    "tmp[\"minute\"] = tmp.index.minute\n",
    "tmp = tmp.dropna()\n",
    "cost = tmp[[\"minute\", \"maker_cost\"]].groupby(\"minute\").mean()\n",
    "\n",
    "fig = plt.figure(figsize=(16, 4))\n",
    "ax1 = plt.subplot2grid((1,1), (0,0))\n",
    "ax1.grid(which=\"major\", axis=\"y\", color=\"gray\", alpha=0.5, linestyle=\"dotted\", linewidth=1)\n",
    "ax1.bar(cost.index, cost[\"maker_cost\"], width=0.4, label=\"Maker Cost\")\n",
    "ax1.legend()\n",
    "plt.show()"
   ]
  },
  {
   "cell_type": "markdown",
   "metadata": {},
   "source": [
    "### メモ."
   ]
  },
  {
   "cell_type": "markdown",
   "metadata": {},
   "source": [
    "- 分ごとにメイカーコストに傾向が見られる. これはつまるところ分ごとのボラティリティによる.\n",
    "- メイカーコストは, 00分＞30分＞15分≒45分＞その他."
   ]
  },
  {
   "cell_type": "markdown",
   "metadata": {},
   "source": [
    "## 時系列でのメイカーコストの移り変わり."
   ]
  },
  {
   "cell_type": "markdown",
   "metadata": {},
   "source": [
    "- 1日ごとのメイカーコスト平均を時系列にプロット."
   ]
  },
  {
   "cell_type": "code",
   "execution_count": 7,
   "metadata": {},
   "outputs": [
    {
     "data": {
      "image/png": "[encoded data removed]",
      "text/plain": [
       "<Figure size 1152x288 with 2 Axes>"
      ]
     },
     "metadata": {
      "needs_background": "light"
     },
     "output_type": "display_data"
    }
   ],
   "source": [
    "tmp = bybit_btcusd_1m.copy()\n",
    "tmp[\"maker_cost\"] = ((tmp[\"maker_buy_price\"] - tmp[\"open\"]) / tmp[\"open\"] - (tmp[\"maker_sell_price\"] - tmp[\"open\"]) / tmp[\"open\"]) / 2\n",
    "tmp = tmp.dropna()\n",
    "\n",
    "daily = pd.concat([tmp[\"maker_cost\"].resample(\"1d\").mean(), tmp[\"open\"].resample(\"1d\").first()], axis=1)\n",
    "\n",
    "fig = plt.figure(figsize=(16, 4))\n",
    "ax1 = plt.subplot2grid((1,1), (0,0))\n",
    "ax1_right = ax1.twinx()\n",
    "ax1_right.yaxis.set_visible(False)\n",
    "ax1.grid(which=\"major\", axis=\"x\", color=\"gray\", alpha=0.5, linestyle=\"dotted\", linewidth=1)\n",
    "ax1.grid(which=\"major\", axis=\"y\", color=\"gray\", alpha=0.5, linestyle=\"dotted\", linewidth=1)\n",
    "ax1.plot(daily.index.values, daily[\"maker_cost\"], linewidth=1, label=\"Maker Cost\")\n",
    "ax1_right.plot(daily.index.values, daily[\"open\"], linewidth=0.5, color=\"lightgray\")\n",
    "ax1.legend()\n",
    "plt.show()\n"
   ]
  },
  {
   "cell_type": "markdown",
   "metadata": {},
   "source": [
    "### メモ."
   ]
  },
  {
   "cell_type": "markdown",
   "metadata": {},
   "source": [
    "- もっと長期で見る必要あり.\n",
    "- 基本的にはボラが激しいとき, メイカーコストは大きくなる."
   ]
  },
  {
   "cell_type": "code",
   "execution_count": null,
   "metadata": {},
   "outputs": [],
   "source": []
  }
 ],
 "metadata": {
  "kernelspec": {
   "display_name": "Python 3",
   "language": "python",
   "name": "python3"
  },
  "language_info": {
   "codemirror_mode": {
    "name": "ipython",
    "version": 3
   },
   "file_extension": ".py",
   "mimetype": "text/x-python",
   "name": "python",
   "nbconvert_exporter": "python",
   "pygments_lexer": "ipython3",
   "version": "3.7.6"
  },
  "toc": {
   "base_numbering": 1,
   "nav_menu": {},
   "number_sections": true,
   "sideBar": true,
   "skip_h1_title": false,
   "title_cell": "Table of Contents",
   "title_sidebar": "Contents",
   "toc_cell": false,
   "toc_position": {},
   "toc_section_display": true,
   "toc_window_display": true
  }
 },
 "nbformat": 4,
 "nbformat_minor": 4
}
